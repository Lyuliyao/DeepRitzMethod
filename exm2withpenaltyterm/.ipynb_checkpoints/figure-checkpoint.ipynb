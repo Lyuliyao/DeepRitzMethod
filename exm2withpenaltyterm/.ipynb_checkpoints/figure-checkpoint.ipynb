{
 "cells": [
  {
   "cell_type": "code",
   "execution_count": 1,
   "metadata": {},
   "outputs": [],
   "source": [
    "using CSV\n",
    "using Statistics\n",
    "using DataFrames\n",
    "using PyPlot\n",
    "result=DataFrame(Dimension=Int[],points=Int[],sampling_method=String[],relative_error_average=Float64[]);"
   ]
  },
  {
   "cell_type": "code",
   "execution_count": 7,
   "metadata": {},
   "outputs": [
    {
     "ename": "UndefVarError",
     "evalue": "UndefVarError: font1 not defined",
     "output_type": "error",
     "traceback": [
      "UndefVarError: font1 not defined",
      "",
      "Stacktrace:",
      " [1] top-level scope at .\\In[7]:12"
     ]
    }
   ],
   "source": [
    "for i=1:4\n",
    "    N=[250 500 1000 2000]\n",
    "    errdf1=CSV.read(\"$(N[i])Sobol2Dexm2.csv\");\n",
    "    errdf2=CSV.read(\"$(N[i])rand2Dexm2.csv\");\n",
    "    subplot(2,2,i)\n",
    "    scatter(errdf1.time,log.(errdf1.absolute_error),0.1,label=\"Sobol\")\n",
    "    #scatter(errdf2.time,log.(errdf2.absolute_error),0.1,label=\"rand\")\n",
    "    push!(result, (2,N[i],\"Sobol\", mean(errdf1.absolute_error[end-1000:end])))\n",
    "    push!(result, (2,N[i],\"Rand\", mean(errdf2.absolute_error[end-1000:end])));\n",
    "    legend(loc=\"upper right\",fancybox=\"true\",scatterpoints=1000)\n",
    "    ax=gca()\n",
    "    xlabel(\"epoch\",fontdict=font1)\n",
    "    ylabel(\"log(error)\",fontdict=font1)\n",
    "    setp(ax.get_xticklabels(),fontsize=fontsize1)\n",
    "    setp(ax.get_yticklabels(),fontsize=fontsize1)\n",
    "    legend(loc=\"upper right\",fancybox=\"true\",fontsize=fontsize1,scatterpoints=1000)\n",
    "    PyPlot.title(\"The size of mini-batch is $(N[i]) in each epoch\",fontdict=font1)\n",
    "end"
   ]
  },
  {
   "cell_type": "code",
   "execution_count": 3,
   "metadata": {},
   "outputs": [],
   "source": [
    "for i=1:4\n",
    "    N=[500 1000 2000 4000]\n",
    "    errdf1=CSV.read(\"$(N[i])Sobol4Dexm2.csv\");\n",
    "    errdf2=CSV.read(\"$(N[i])rand4Dexm2.csv\");\n",
    "    push!(result, (4,N[i],\"Sobol\", mean(errdf1.absolute_error[end-1000:end])))\n",
    "    push!(result, (4,N[i],\"Rand\", mean(errdf2.absolute_error[end-1000:end])));\n",
    "end"
   ]
  },
  {
   "cell_type": "code",
   "execution_count": 4,
   "metadata": {},
   "outputs": [],
   "source": [
    "for i=1:4\n",
    "    N=[500 1000 2000 10000]\n",
    "    errdf1=CSV.read(\"$(N[i])Sobol8Dexm2.csv\");\n",
    "    errdf2=CSV.read(\"$(N[i])rand8Dexm2.csv\");\n",
    "    push!(result, (8,N[i],\"Sobol\", mean(errdf1.absolute_error[end-1000:end])))\n",
    "    push!(result, (8,N[i],\"Rand\", mean(errdf2.absolute_error[end-1000:end])));\n",
    "end"
   ]
  },
  {
   "cell_type": "code",
   "execution_count": 5,
   "metadata": {},
   "outputs": [],
   "source": [
    "for i=1:4\n",
    "    N=[2000 5000 10000 20000]\n",
    "    #errdf1=CSV.read(\"$(N[i])Sobol16Dexm2.csv\");\n",
    "    errdf2=CSV.read(\"$(N[i])rand16Dexm2.csv\");\n",
    "    #push!(result, (16,N[i],\"Sobol\", mean(errdf1.absolute_error[end-1000:end])))\n",
    "    push!(result, (16,N[i],\"Rand\", mean(errdf2.absolute_error[end-1000:end])));\n",
    "end"
   ]
  },
  {
   "cell_type": "code",
   "execution_count": 6,
   "metadata": {},
   "outputs": [
    {
     "data": {
      "text/html": [
       "<table class=\"data-frame\"><thead><tr><th></th><th>Dimension</th><th>points</th><th>sampling_method</th><th>relative_error_average</th></tr><tr><th></th><th>Int64</th><th>Int64</th><th>String</th><th>Float64</th></tr></thead><tbody><p>28 rows × 4 columns</p><tr><th>1</th><td>2</td><td>250</td><td>Sobol</td><td>0.00807932</td></tr><tr><th>2</th><td>2</td><td>250</td><td>Rand</td><td>0.0161507</td></tr><tr><th>3</th><td>2</td><td>500</td><td>Sobol</td><td>0.00417634</td></tr><tr><th>4</th><td>2</td><td>500</td><td>Rand</td><td>0.0150275</td></tr><tr><th>5</th><td>2</td><td>1000</td><td>Sobol</td><td>0.0019497</td></tr><tr><th>6</th><td>2</td><td>1000</td><td>Rand</td><td>0.0112558</td></tr><tr><th>7</th><td>2</td><td>2000</td><td>Sobol</td><td>0.00226057</td></tr><tr><th>8</th><td>2</td><td>2000</td><td>Rand</td><td>0.00815026</td></tr><tr><th>9</th><td>4</td><td>500</td><td>Sobol</td><td>0.00626994</td></tr><tr><th>10</th><td>4</td><td>500</td><td>Rand</td><td>0.0249209</td></tr><tr><th>11</th><td>4</td><td>1000</td><td>Sobol</td><td>0.005273</td></tr><tr><th>12</th><td>4</td><td>1000</td><td>Rand</td><td>0.0177478</td></tr><tr><th>13</th><td>4</td><td>2000</td><td>Sobol</td><td>0.00446833</td></tr><tr><th>14</th><td>4</td><td>2000</td><td>Rand</td><td>0.0138583</td></tr><tr><th>15</th><td>4</td><td>4000</td><td>Sobol</td><td>0.00374966</td></tr><tr><th>16</th><td>4</td><td>4000</td><td>Rand</td><td>0.010649</td></tr><tr><th>17</th><td>8</td><td>500</td><td>Sobol</td><td>0.0235403</td></tr><tr><th>18</th><td>8</td><td>500</td><td>Rand</td><td>0.0765705</td></tr><tr><th>19</th><td>8</td><td>1000</td><td>Sobol</td><td>0.0179771</td></tr><tr><th>20</th><td>8</td><td>1000</td><td>Rand</td><td>0.0610101</td></tr><tr><th>21</th><td>8</td><td>2000</td><td>Sobol</td><td>0.017561</td></tr><tr><th>22</th><td>8</td><td>2000</td><td>Rand</td><td>0.0593214</td></tr><tr><th>23</th><td>8</td><td>10000</td><td>Sobol</td><td>0.0152862</td></tr><tr><th>24</th><td>8</td><td>10000</td><td>Rand</td><td>0.0331032</td></tr><tr><th>25</th><td>16</td><td>2000</td><td>Rand</td><td>0.388054</td></tr><tr><th>26</th><td>16</td><td>5000</td><td>Rand</td><td>0.0506268</td></tr><tr><th>27</th><td>16</td><td>10000</td><td>Rand</td><td>0.0351186</td></tr><tr><th>28</th><td>16</td><td>20000</td><td>Rand</td><td>0.0374408</td></tr></tbody></table>"
      ],
      "text/latex": [
       "\\begin{tabular}{r|cccc}\n",
       "\t& Dimension & points & sampling\\_method & relative\\_error\\_average\\\\\n",
       "\t\\hline\n",
       "\t& Int64 & Int64 & String & Float64\\\\\n",
       "\t\\hline\n",
       "\t1 & 2 & 250 & Sobol & 0.00807932 \\\\\n",
       "\t2 & 2 & 250 & Rand & 0.0161507 \\\\\n",
       "\t3 & 2 & 500 & Sobol & 0.00417634 \\\\\n",
       "\t4 & 2 & 500 & Rand & 0.0150275 \\\\\n",
       "\t5 & 2 & 1000 & Sobol & 0.0019497 \\\\\n",
       "\t6 & 2 & 1000 & Rand & 0.0112558 \\\\\n",
       "\t7 & 2 & 2000 & Sobol & 0.00226057 \\\\\n",
       "\t8 & 2 & 2000 & Rand & 0.00815026 \\\\\n",
       "\t9 & 4 & 500 & Sobol & 0.00626994 \\\\\n",
       "\t10 & 4 & 500 & Rand & 0.0249209 \\\\\n",
       "\t11 & 4 & 1000 & Sobol & 0.005273 \\\\\n",
       "\t12 & 4 & 1000 & Rand & 0.0177478 \\\\\n",
       "\t13 & 4 & 2000 & Sobol & 0.00446833 \\\\\n",
       "\t14 & 4 & 2000 & Rand & 0.0138583 \\\\\n",
       "\t15 & 4 & 4000 & Sobol & 0.00374966 \\\\\n",
       "\t16 & 4 & 4000 & Rand & 0.010649 \\\\\n",
       "\t17 & 8 & 500 & Sobol & 0.0235403 \\\\\n",
       "\t18 & 8 & 500 & Rand & 0.0765705 \\\\\n",
       "\t19 & 8 & 1000 & Sobol & 0.0179771 \\\\\n",
       "\t20 & 8 & 1000 & Rand & 0.0610101 \\\\\n",
       "\t21 & 8 & 2000 & Sobol & 0.017561 \\\\\n",
       "\t22 & 8 & 2000 & Rand & 0.0593214 \\\\\n",
       "\t23 & 8 & 10000 & Sobol & 0.0152862 \\\\\n",
       "\t24 & 8 & 10000 & Rand & 0.0331032 \\\\\n",
       "\t25 & 16 & 2000 & Rand & 0.388054 \\\\\n",
       "\t26 & 16 & 5000 & Rand & 0.0506268 \\\\\n",
       "\t27 & 16 & 10000 & Rand & 0.0351186 \\\\\n",
       "\t28 & 16 & 20000 & Rand & 0.0374408 \\\\\n",
       "\\end{tabular}\n"
      ],
      "text/plain": [
       "28×4 DataFrame\n",
       "│ Row │ Dimension │ points │ sampling_method │ relative_error_average │\n",
       "│     │ \u001b[90mInt64\u001b[39m     │ \u001b[90mInt64\u001b[39m  │ \u001b[90mString\u001b[39m          │ \u001b[90mFloat64\u001b[39m                │\n",
       "├─────┼───────────┼────────┼─────────────────┼────────────────────────┤\n",
       "│ 1   │ 2         │ 250    │ Sobol           │ 0.00807932             │\n",
       "│ 2   │ 2         │ 250    │ Rand            │ 0.0161507              │\n",
       "│ 3   │ 2         │ 500    │ Sobol           │ 0.00417634             │\n",
       "│ 4   │ 2         │ 500    │ Rand            │ 0.0150275              │\n",
       "│ 5   │ 2         │ 1000   │ Sobol           │ 0.0019497              │\n",
       "│ 6   │ 2         │ 1000   │ Rand            │ 0.0112558              │\n",
       "│ 7   │ 2         │ 2000   │ Sobol           │ 0.00226057             │\n",
       "│ 8   │ 2         │ 2000   │ Rand            │ 0.00815026             │\n",
       "│ 9   │ 4         │ 500    │ Sobol           │ 0.00626994             │\n",
       "│ 10  │ 4         │ 500    │ Rand            │ 0.0249209              │\n",
       "⋮\n",
       "│ 18  │ 8         │ 500    │ Rand            │ 0.0765705              │\n",
       "│ 19  │ 8         │ 1000   │ Sobol           │ 0.0179771              │\n",
       "│ 20  │ 8         │ 1000   │ Rand            │ 0.0610101              │\n",
       "│ 21  │ 8         │ 2000   │ Sobol           │ 0.017561               │\n",
       "│ 22  │ 8         │ 2000   │ Rand            │ 0.0593214              │\n",
       "│ 23  │ 8         │ 10000  │ Sobol           │ 0.0152862              │\n",
       "│ 24  │ 8         │ 10000  │ Rand            │ 0.0331032              │\n",
       "│ 25  │ 16        │ 2000   │ Rand            │ 0.388054               │\n",
       "│ 26  │ 16        │ 5000   │ Rand            │ 0.0506268              │\n",
       "│ 27  │ 16        │ 10000  │ Rand            │ 0.0351186              │\n",
       "│ 28  │ 16        │ 20000  │ Rand            │ 0.0374408              │"
      ]
     },
     "execution_count": 6,
     "metadata": {},
     "output_type": "execute_result"
    }
   ],
   "source": [
    "result"
   ]
  },
  {
   "cell_type": "code",
   "execution_count": null,
   "metadata": {},
   "outputs": [],
   "source": []
  }
 ],
 "metadata": {
  "@webio": {
   "lastCommId": null,
   "lastKernelId": null
  },
  "kernelspec": {
   "display_name": "Julia 1.2.0",
   "language": "julia",
   "name": "julia-1.2"
  },
  "language_info": {
   "file_extension": ".jl",
   "mimetype": "application/julia",
   "name": "julia",
   "version": "1.2.0"
  }
 },
 "nbformat": 4,
 "nbformat_minor": 2
}
